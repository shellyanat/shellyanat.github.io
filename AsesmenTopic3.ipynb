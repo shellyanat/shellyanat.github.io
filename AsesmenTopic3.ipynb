{
 "cells": [
  {
   "cell_type": "markdown",
   "metadata": {
    "id": "f6LjKU50-tD8"
   },
   "source": [
    "\n",
    "# Topic 3 - Python Structure & Data Type Assignment\n"
   ]
  },
  {
   "cell_type": "markdown",
   "metadata": {
    "id": "MPuR878HZEbx"
   },
   "source": [
    "# Data Type Declaration"
   ]
  },
  {
   "cell_type": "markdown",
   "metadata": {
    "id": "GyS5I54D-3K9"
   },
   "source": [
    "1. > Create an empty variable (Points : 5)"
   ]
  },
  {
   "cell_type": "code",
   "execution_count": 2,
   "metadata": {
    "id": "jehesBY-_aKL"
   },
   "outputs": [],
   "source": [
    "variable = None"
   ]
  },
  {
   "cell_type": "markdown",
   "metadata": {
    "id": "6zCz3qZ8_bu2"
   },
   "source": [
    "2. > Create a variable containing your name (Points : 5)"
   ]
  },
  {
   "cell_type": "code",
   "execution_count": 3,
   "metadata": {
    "id": "1wT8jnI6_f-U"
   },
   "outputs": [
    {
     "data": {
      "text/plain": [
       "'Shellya Nur Atqiya'"
      ]
     },
     "execution_count": 3,
     "metadata": {},
     "output_type": "execute_result"
    }
   ],
   "source": [
    "name = 'Shellya Nur Atqiya'\n",
    "name"
   ]
  },
  {
   "cell_type": "markdown",
   "metadata": {
    "id": "ApatE8m__2Ud"
   },
   "source": [
    "3. > Create a list of 5 items you can find in the classroom (Points : 5)"
   ]
  },
  {
   "cell_type": "code",
   "execution_count": 4,
   "metadata": {
    "id": "-Q0Ynqx1_6hF"
   },
   "outputs": [
    {
     "data": {
      "text/plain": [
       "['table', 'chair', 'board', 'marker', 'book']"
      ]
     },
     "execution_count": 4,
     "metadata": {},
     "output_type": "execute_result"
    }
   ],
   "source": [
    "classroom_items=['table','chair','board','marker','book']\n",
    "classroom_items"
   ]
  },
  {
   "cell_type": "markdown",
   "metadata": {
    "id": "6FwMmy_9AS5N"
   },
   "source": [
    "4. > Create a dictionary containing 2 keys and value (Points : 5)"
   ]
  },
  {
   "cell_type": "code",
   "execution_count": 5,
   "metadata": {
    "id": "xLc2AlhtASOm"
   },
   "outputs": [
    {
     "data": {
      "text/plain": [
       "{'Food': ['Nasi Goreng', 'Mie Goreng', 'Soto', 'Sate', 'Bakso'],\n",
       " 'Price': ['Rp15.000', 'Rp20.000', 'Rp25.000', 'Rp30.000', 'Rp35.000']}"
      ]
     },
     "execution_count": 5,
     "metadata": {},
     "output_type": "execute_result"
    }
   ],
   "source": [
    "menu={'Food':['Nasi Goreng','Mie Goreng','Soto','Sate','Bakso'],\n",
    "     'Price':['Rp15.000','Rp20.000','Rp25.000','Rp30.000','Rp35.000']}\n",
    "menu"
   ]
  },
  {
   "cell_type": "markdown",
   "metadata": {
    "id": "6AqPfAS7a1Oi"
   },
   "source": [
    "# Basic Data Operation"
   ]
  },
  {
   "cell_type": "markdown",
   "metadata": {
    "id": "-ZZF1cXlbqkJ"
   },
   "source": [
    "You sold 20 pieces of electronics at the price of 12000. The customer gets a total discount of 10%.\n",
    "\n",
    "Below are those variables:\n",
    "\n",
    "1.   price=12000\n",
    "2.   quantity_sold=20\n",
    "3.   discount=10%\n",
    "\n",
    "\n",
    "Using Python code, write the code the find the total money that the customer to pay. (Points : 15)"
   ]
  },
  {
   "cell_type": "code",
   "execution_count": 6,
   "metadata": {
    "id": "90T0A2HvbcCK"
   },
   "outputs": [
    {
     "data": {
      "text/plain": [
       "216000.0"
      ]
     },
     "execution_count": 6,
     "metadata": {},
     "output_type": "execute_result"
    }
   ],
   "source": [
    "price=12000\n",
    "quantity_sold=20\n",
    "discount=0.1\n",
    "\n",
    "total_price=price*quantity_sold\n",
    "discount_earned=0.1*total_price\n",
    "total_money=total_price-discount_earned\n",
    "total_money"
   ]
  },
  {
   "cell_type": "markdown",
   "metadata": {
    "id": "G-HHsg4la6mJ"
   },
   "source": [
    "# List Data Operation"
   ]
  },
  {
   "cell_type": "markdown",
   "metadata": {
    "id": "NdoSjVZ4Zbqg"
   },
   "source": [
    "5. > Follow the instructions in the code blocks\n",
    "\n",
    "\n",
    "\n"
   ]
  },
  {
   "cell_type": "code",
   "execution_count": 7,
   "metadata": {
    "id": "xsFxlZGLaQ7y"
   },
   "outputs": [
    {
     "data": {
      "text/plain": [
       "['Indonesia',\n",
       " 'Swiss',\n",
       " 'Singapore',\n",
       " 'Turki',\n",
       " 'New Zealand',\n",
       " 'South Korea',\n",
       " 'Japan']"
      ]
     },
     "execution_count": 7,
     "metadata": {},
     "output_type": "execute_result"
    }
   ],
   "source": [
    "# Create list of countries in the world (total 7 countries) (Points : 5)\n",
    "\n",
    "countries=['Indonesia','Swiss','Singapore','Turki','New Zealand','South Korea','Japan']\n",
    "countries"
   ]
  },
  {
   "cell_type": "code",
   "execution_count": 8,
   "metadata": {
    "id": "6Se125DabJ6R"
   },
   "outputs": [
    {
     "data": {
      "text/plain": [
       "['Indonesia', 'Swiss', 'Singapore', 'Turki']"
      ]
     },
     "execution_count": 8,
     "metadata": {},
     "output_type": "execute_result"
    }
   ],
   "source": [
    "# Get 4 countries from the first index of the list (Points : 5)\n",
    "\n",
    "countries[0:4]"
   ]
  },
  {
   "cell_type": "code",
   "execution_count": 9,
   "metadata": {
    "id": "FSU5QfExbKAh"
   },
   "outputs": [
    {
     "data": {
      "text/plain": [
       "['Indonesia',\n",
       " 'Swiss',\n",
       " 'Singapore',\n",
       " 'Turki',\n",
       " 'New Zealand',\n",
       " 'South Korea',\n",
       " 'Japan',\n",
       " 'Canada']"
      ]
     },
     "execution_count": 9,
     "metadata": {},
     "output_type": "execute_result"
    }
   ],
   "source": [
    "# Append new country to the list (Points : 5)\n",
    "\n",
    "countries.append('Canada')\n",
    "countries"
   ]
  },
  {
   "cell_type": "code",
   "execution_count": 10,
   "metadata": {
    "id": "DlvXbKlnbKGR"
   },
   "outputs": [
    {
     "data": {
      "text/plain": [
       "['Indonesia',\n",
       " 'Swiss',\n",
       " 'Singapore',\n",
       " 'Turki',\n",
       " 'New Zealand',\n",
       " 'South Korea',\n",
       " 'Canada']"
      ]
     },
     "execution_count": 10,
     "metadata": {},
     "output_type": "execute_result"
    }
   ],
   "source": [
    "# Drop one country from the list (Points : 5)\n",
    "\n",
    "countries.remove('Japan')\n",
    "countries"
   ]
  },
  {
   "cell_type": "code",
   "execution_count": 11,
   "metadata": {
    "id": "F1NJ6JCQbKJ7"
   },
   "outputs": [
    {
     "data": {
      "text/plain": [
       "'Canada'"
      ]
     },
     "execution_count": 11,
     "metadata": {},
     "output_type": "execute_result"
    }
   ],
   "source": [
    "# Get country in the last index (Points : 5)\n",
    "\n",
    "countries[-1]"
   ]
  },
  {
   "cell_type": "markdown",
   "metadata": {
    "id": "Kfkq-SmIdJR6"
   },
   "source": [
    "# Dictionary Data Operation"
   ]
  },
  {
   "cell_type": "markdown",
   "metadata": {
    "id": "WyJ8CJzdeMiS"
   },
   "source": [
    "6. >  Follow the instructions below\n",
    "\n",
    "\n",
    "\n"
   ]
  },
  {
   "cell_type": "code",
   "execution_count": 12,
   "metadata": {
    "id": "fVHYIKLwdMfq"
   },
   "outputs": [],
   "source": [
    "# Given the dictionary below\n",
    "\n",
    "customer={\n",
    "    \"name\":['Dio','Eka','Wayu','Riki'],\n",
    "    \"age\":[20,19,24,39],\n",
    "    \"gender\":[1,0,0,1],\n",
    "    \"membership\":['Platinum','Gold','Silver','Silver']\n",
    "}"
   ]
  },
  {
   "cell_type": "code",
   "execution_count": 13,
   "metadata": {
    "id": "LpRVtz4_eJK5"
   },
   "outputs": [
    {
     "data": {
      "text/plain": [
       "dict_keys(['name', 'age', 'gender', 'membership'])"
      ]
     },
     "execution_count": 13,
     "metadata": {},
     "output_type": "execute_result"
    }
   ],
   "source": [
    "# Print all keys in customer (Points : 5)\n",
    "\n",
    "dict.keys(customer)"
   ]
  },
  {
   "cell_type": "code",
   "execution_count": 14,
   "metadata": {
    "id": "QiEMM94FeYrz"
   },
   "outputs": [
    {
     "data": {
      "text/plain": [
       "['Dio', 'Eka', 'Wayu', 'Riki']"
      ]
     },
     "execution_count": 14,
     "metadata": {},
     "output_type": "execute_result"
    }
   ],
   "source": [
    "# Print all customer names (Points : 5)\n",
    "\n",
    "customer['name']"
   ]
  },
  {
   "cell_type": "code",
   "execution_count": 15,
   "metadata": {
    "id": "P2SeErUGgQ-D"
   },
   "outputs": [
    {
     "data": {
      "text/plain": [
       "'Dio'"
      ]
     },
     "execution_count": 15,
     "metadata": {},
     "output_type": "execute_result"
    }
   ],
   "source": [
    "# Print the first customer name (Points : 5)\n",
    "\n",
    "customer['name'][0]"
   ]
  },
  {
   "cell_type": "code",
   "execution_count": 16,
   "metadata": {
    "id": "c3PlmHxueiPy"
   },
   "outputs": [
    {
     "data": {
      "text/plain": [
       "{'name': ['Dio', 'Eka', 'Wayu', 'Riki'],\n",
       " 'gender': [1, 0, 0, 1],\n",
       " 'membership': ['Platinum', 'Gold', 'Silver', 'Silver']}"
      ]
     },
     "execution_count": 16,
     "metadata": {},
     "output_type": "execute_result"
    }
   ],
   "source": [
    "# Drop \"age\" key from the dictionary (Points : 5)\n",
    "\n",
    "del customer['age']\n",
    "customer"
   ]
  },
  {
   "cell_type": "code",
   "execution_count": 17,
   "metadata": {
    "id": "FgXDh9mIea9x"
   },
   "outputs": [
    {
     "data": {
      "text/plain": [
       "{'name': ['Dio', 'Eka', 'Wayu', 'Riki'],\n",
       " 'gender': ['Male', 'Female', 'Female', 'Male'],\n",
       " 'membership': ['Platinum', 'Gold', 'Silver', 'Silver']}"
      ]
     },
     "execution_count": 17,
     "metadata": {},
     "output_type": "execute_result"
    }
   ],
   "source": [
    "# Replace customer gender list value (Points : 20)\n",
    "# gender 1 => Male\n",
    "# gender 0 => Female \n",
    "\n",
    "\n",
    "customer.update({'gender':['Male','Female','Female','Male']})\n",
    "customer"
   ]
  }
 ],
 "metadata": {
  "colab": {
   "collapsed_sections": [],
   "name": "Topic 4 - Assignment ipynb",
   "provenance": []
  },
  "kernelspec": {
   "display_name": "Python 3",
   "language": "python",
   "name": "python3"
  },
  "language_info": {
   "codemirror_mode": {
    "name": "ipython",
    "version": 3
   },
   "file_extension": ".py",
   "mimetype": "text/x-python",
   "name": "python",
   "nbconvert_exporter": "python",
   "pygments_lexer": "ipython3",
   "version": "3.8.8"
  }
 },
 "nbformat": 4,
 "nbformat_minor": 1
}
