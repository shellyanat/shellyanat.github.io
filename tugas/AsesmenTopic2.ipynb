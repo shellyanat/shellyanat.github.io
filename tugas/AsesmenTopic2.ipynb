{
 "cells": [
  {
   "cell_type": "code",
   "execution_count": 1,
   "id": "1b46f32d",
   "metadata": {},
   "outputs": [
    {
     "name": "stdout",
     "output_type": "stream",
     "text": [
      "Shellya Nur Atqiya\n",
      "Peserta Program Zenius Studi Independen Bersertifikat\n",
      "Data Warehousing, Analysis, and Visualization for Business Insights\n"
     ]
    }
   ],
   "source": [
    "print(\"Shellya Nur Atqiya\")\n",
    "print(\"Peserta Program Zenius Studi Independen Bersertifikat\")\n",
    "print(\"Data Warehousing, Analysis, and Visualization for Business Insights\")"
   ]
  },
  {
   "cell_type": "code",
   "execution_count": null,
   "id": "26ef5926",
   "metadata": {},
   "outputs": [],
   "source": []
  }
 ],
 "metadata": {
  "kernelspec": {
   "display_name": "Python 3",
   "language": "python",
   "name": "python3"
  },
  "language_info": {
   "codemirror_mode": {
    "name": "ipython",
    "version": 3
   },
   "file_extension": ".py",
   "mimetype": "text/x-python",
   "name": "python",
   "nbconvert_exporter": "python",
   "pygments_lexer": "ipython3",
   "version": "3.8.8"
  }
 },
 "nbformat": 4,
 "nbformat_minor": 5
}
