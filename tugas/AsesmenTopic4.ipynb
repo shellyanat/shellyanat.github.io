{
 "cells": [
  {
   "cell_type": "markdown",
   "metadata": {
    "id": "rhs6ovOcfpKY"
   },
   "source": [
    "##Topic 5 - Loop, Conditional Statement & Function Assignment\n"
   ]
  },
  {
   "cell_type": "markdown",
   "metadata": {
    "id": "tESOTs3YfVw4"
   },
   "source": [
    "# Loop"
   ]
  },
  {
   "cell_type": "markdown",
   "metadata": {
    "id": "pdVUOOFNfy8f"
   },
   "source": [
    "Write a \"for\" loop to iterate and print value from 100 to 200 (Points 5)"
   ]
  },
  {
   "cell_type": "code",
   "execution_count": 1,
   "metadata": {
    "id": "CnzWEkDyfXrf"
   },
   "outputs": [
    {
     "name": "stdout",
     "output_type": "stream",
     "text": [
      "100\n",
      "101\n",
      "102\n",
      "103\n",
      "104\n",
      "105\n",
      "106\n",
      "107\n",
      "108\n",
      "109\n",
      "110\n",
      "111\n",
      "112\n",
      "113\n",
      "114\n",
      "115\n",
      "116\n",
      "117\n",
      "118\n",
      "119\n",
      "120\n",
      "121\n",
      "122\n",
      "123\n",
      "124\n",
      "125\n",
      "126\n",
      "127\n",
      "128\n",
      "129\n",
      "130\n",
      "131\n",
      "132\n",
      "133\n",
      "134\n",
      "135\n",
      "136\n",
      "137\n",
      "138\n",
      "139\n",
      "140\n",
      "141\n",
      "142\n",
      "143\n",
      "144\n",
      "145\n",
      "146\n",
      "147\n",
      "148\n",
      "149\n",
      "150\n",
      "151\n",
      "152\n",
      "153\n",
      "154\n",
      "155\n",
      "156\n",
      "157\n",
      "158\n",
      "159\n",
      "160\n",
      "161\n",
      "162\n",
      "163\n",
      "164\n",
      "165\n",
      "166\n",
      "167\n",
      "168\n",
      "169\n",
      "170\n",
      "171\n",
      "172\n",
      "173\n",
      "174\n",
      "175\n",
      "176\n",
      "177\n",
      "178\n",
      "179\n",
      "180\n",
      "181\n",
      "182\n",
      "183\n",
      "184\n",
      "185\n",
      "186\n",
      "187\n",
      "188\n",
      "189\n",
      "190\n",
      "191\n",
      "192\n",
      "193\n",
      "194\n",
      "195\n",
      "196\n",
      "197\n",
      "198\n",
      "199\n"
     ]
    }
   ],
   "source": [
    "for i in range (100,200):\n",
    "    print(i)"
   ]
  },
  {
   "cell_type": "markdown",
   "metadata": {
    "id": "RaLLenGOgASP"
   },
   "source": [
    "Write a for loop to iterate and print the **odd numbers** between from 0 to 100  (Points 10)"
   ]
  },
  {
   "cell_type": "code",
   "execution_count": 2,
   "metadata": {
    "id": "lhPeyR2dgNSf"
   },
   "outputs": [
    {
     "name": "stdout",
     "output_type": "stream",
     "text": [
      "1\n",
      "3\n",
      "5\n",
      "7\n",
      "9\n",
      "11\n",
      "13\n",
      "15\n",
      "17\n",
      "19\n",
      "21\n",
      "23\n",
      "25\n",
      "27\n",
      "29\n",
      "31\n",
      "33\n",
      "35\n",
      "37\n",
      "39\n",
      "41\n",
      "43\n",
      "45\n",
      "47\n",
      "49\n",
      "51\n",
      "53\n",
      "55\n",
      "57\n",
      "59\n",
      "61\n",
      "63\n",
      "65\n",
      "67\n",
      "69\n",
      "71\n",
      "73\n",
      "75\n",
      "77\n",
      "79\n",
      "81\n",
      "83\n",
      "85\n",
      "87\n",
      "89\n",
      "91\n",
      "93\n",
      "95\n",
      "97\n",
      "99\n"
     ]
    }
   ],
   "source": [
    "for i in range(100):\n",
    "    if (i%2==1):\n",
    "        print(i)"
   ]
  },
  {
   "cell_type": "markdown",
   "metadata": {
    "id": "L_MyDw4qge4H"
   },
   "source": [
    "Write a \"While\" loop to iterate and print value from 0 to 50 (Points 5)"
   ]
  },
  {
   "cell_type": "code",
   "execution_count": 3,
   "metadata": {
    "id": "zJAQ0DpygY1H"
   },
   "outputs": [
    {
     "name": "stdout",
     "output_type": "stream",
     "text": [
      "0\n",
      "1\n",
      "2\n",
      "3\n",
      "4\n",
      "5\n",
      "6\n",
      "7\n",
      "8\n",
      "9\n",
      "10\n",
      "11\n",
      "12\n",
      "13\n",
      "14\n",
      "15\n",
      "16\n",
      "17\n",
      "18\n",
      "19\n",
      "20\n",
      "21\n",
      "22\n",
      "23\n",
      "24\n",
      "25\n",
      "26\n",
      "27\n",
      "28\n",
      "29\n",
      "30\n",
      "31\n",
      "32\n",
      "33\n",
      "34\n",
      "35\n",
      "36\n",
      "37\n",
      "38\n",
      "39\n",
      "40\n",
      "41\n",
      "42\n",
      "43\n",
      "44\n",
      "45\n",
      "46\n",
      "47\n",
      "48\n",
      "49\n"
     ]
    }
   ],
   "source": [
    "i=0\n",
    "while i < 50:\n",
    "    print(i)\n",
    "    i=i+1"
   ]
  },
  {
   "cell_type": "markdown",
   "metadata": {
    "id": "wmgK-wW9jLCg"
   },
   "source": [
    "# Loop with Conditional Statement"
   ]
  },
  {
   "cell_type": "markdown",
   "metadata": {
    "id": "6wcDI-omjSjo"
   },
   "source": [
    "Given the list below\n",
    "\n",
    "age=[10,15,30,90,100,10,20]"
   ]
  },
  {
   "cell_type": "markdown",
   "metadata": {
    "id": "vNb9IUcPk1p4"
   },
   "source": [
    "Loop through the list and print all of the value (Points 5)"
   ]
  },
  {
   "cell_type": "code",
   "execution_count": 4,
   "metadata": {
    "id": "3A9x3fp_jO-3"
   },
   "outputs": [
    {
     "name": "stdout",
     "output_type": "stream",
     "text": [
      "10\n",
      "15\n",
      "30\n",
      "90\n",
      "100\n",
      "10\n",
      "20\n"
     ]
    }
   ],
   "source": [
    "age=[10,15,30,90,100,10,20]\n",
    "\n",
    "for x in age:\n",
    "    print(x)"
   ]
  },
  {
   "cell_type": "markdown",
   "metadata": {
    "id": "EEEpnmtGk6pX"
   },
   "source": [
    "Using loop and conditional statement, print **all the value higher than 50** (Points 10)"
   ]
  },
  {
   "cell_type": "code",
   "execution_count": 5,
   "metadata": {
    "id": "5IarElM_jQ-n"
   },
   "outputs": [
    {
     "name": "stdout",
     "output_type": "stream",
     "text": [
      "90\n",
      "100\n"
     ]
    }
   ],
   "source": [
    "for x in age:\n",
    "    if (x>50):\n",
    "        print(x)"
   ]
  },
  {
   "cell_type": "markdown",
   "metadata": {
    "id": "rX2hMHHVljcZ"
   },
   "source": [
    "Using loop and conditional statement, replace **all the value lower than 50** into \"Low Value\" (Points 15)"
   ]
  },
  {
   "cell_type": "code",
   "execution_count": 6,
   "metadata": {
    "id": "fLVR8tG_ljv6"
   },
   "outputs": [
    {
     "data": {
      "text/plain": [
       "['Low Value', 'Low Value', 'Low Value', 90, 100, 'Low Value', 'Low Value']"
      ]
     },
     "execution_count": 6,
     "metadata": {},
     "output_type": "execute_result"
    }
   ],
   "source": [
    "new_age=[]\n",
    "for x in age:\n",
    "    if(x<50):\n",
    "        new_age.append(\"Low Value\")\n",
    "    else:\n",
    "        new_age.append(x)\n",
    "new_age"
   ]
  },
  {
   "cell_type": "markdown",
   "metadata": {
    "id": "0GQv25KTuap6"
   },
   "source": [
    "# Function"
   ]
  },
  {
   "cell_type": "markdown",
   "metadata": {
    "id": "KADX7sqxwRsK"
   },
   "source": [
    "Create a function to find the area of a rectangle. (Points 15)"
   ]
  },
  {
   "cell_type": "code",
   "execution_count": 7,
   "metadata": {
    "id": "Jc05-578wR0R"
   },
   "outputs": [
    {
     "data": {
      "text/plain": [
       "12"
      ]
     },
     "execution_count": 7,
     "metadata": {},
     "output_type": "execute_result"
    }
   ],
   "source": [
    "def area(l,w):\n",
    "    result=l*w\n",
    "    return result\n",
    "\n",
    "area(3,4)"
   ]
  },
  {
   "cell_type": "markdown",
   "metadata": {
    "id": "PNfpl1JtyNv6"
   },
   "source": [
    "Create a function to transform string into uppercase. This function will have one parameter input:\n",
    "\n",
    "x= string of word\n",
    "\n",
    "i.e\n",
    "x=\"I love food\" => x=\"I LOVE FOOD\"\n",
    "\n",
    "(Points 15)\n"
   ]
  },
  {
   "cell_type": "code",
   "execution_count": 8,
   "metadata": {
    "id": "nKduN2KOyN4T"
   },
   "outputs": [
    {
     "data": {
      "text/plain": [
       "'I LOVE FOOD'"
      ]
     },
     "execution_count": 8,
     "metadata": {},
     "output_type": "execute_result"
    }
   ],
   "source": [
    "def UC(x):\n",
    "    x=x.upper()\n",
    "    return x\n",
    "\n",
    "UC(\"I love food\")"
   ]
  },
  {
   "cell_type": "markdown",
   "metadata": {
    "id": "J5xXUInBvax6"
   },
   "source": [
    "Create a function called \"calculate\". This function will have three parameter input :\n",
    "\n",
    "1. a= a number input\n",
    "2. b= a number input\n",
    "3. method = \"+\" , \"-\" , \"*\" , \"/\"\n",
    "\n",
    "The function will return the value based on the method chosen. \n",
    "i.e \n",
    "if \"*\" is in input parameter then the function will return a+b (Points 20)"
   ]
  },
  {
   "cell_type": "code",
   "execution_count": 10,
   "metadata": {
    "id": "8b8Fp1MvvkgR"
   },
   "outputs": [
    {
     "name": "stdout",
     "output_type": "stream",
     "text": [
      "18\n",
      "12\n",
      "45\n",
      "5.0\n"
     ]
    }
   ],
   "source": [
    "def calculate(a,b,method):\n",
    "    if (method == \"+\"):\n",
    "        result=a+b\n",
    "    elif (method == \"-\"):\n",
    "        result=a-b\n",
    "    elif (method == \"*\"):\n",
    "        result=a*b\n",
    "    elif (method == \"/\"):\n",
    "        result=a/b\n",
    "    return result\n",
    "    \n",
    "print(calculate(15,3,\"+\"))\n",
    "print(calculate(15,3,\"-\"))\n",
    "print(calculate(15,3,\"*\"))\n",
    "print(calculate(15,3,\"/\"))"
   ]
  }
 ],
 "metadata": {
  "colab": {
   "collapsed_sections": [],
   "name": "Topic 5 - Assigment.ipynb",
   "provenance": []
  },
  "kernelspec": {
   "display_name": "Python 3",
   "language": "python",
   "name": "python3"
  },
  "language_info": {
   "codemirror_mode": {
    "name": "ipython",
    "version": 3
   },
   "file_extension": ".py",
   "mimetype": "text/x-python",
   "name": "python",
   "nbconvert_exporter": "python",
   "pygments_lexer": "ipython3",
   "version": "3.8.8"
  }
 },
 "nbformat": 4,
 "nbformat_minor": 1
}
